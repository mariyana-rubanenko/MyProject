{
  "nbformat": 4,
  "nbformat_minor": 0,
  "metadata": {
    "colab": {
      "provenance": [],
      "authorship_tag": "ABX9TyOZktv4ZVRyBI/ogvMg9h4/",
      "include_colab_link": true
    },
    "kernelspec": {
      "name": "python3",
      "display_name": "Python 3"
    },
    "language_info": {
      "name": "python"
    }
  },
  "cells": [
    {
      "cell_type": "markdown",
      "metadata": {
        "id": "view-in-github",
        "colab_type": "text"
      },
      "source": [
        "<a href=\"https://colab.research.google.com/github/mariyana-rubanenko/MyProject/blob/master/Test_01.ipynb\" target=\"_parent\"><img src=\"https://colab.research.google.com/assets/colab-badge.svg\" alt=\"Open In Colab\"/></a>"
      ]
    },
    {
      "cell_type": "code",
      "execution_count": 8,
      "metadata": {
        "id": "6CMbNkVwUEB_"
      },
      "outputs": [],
      "source": [
        "a = [7,4,5,6,8,9,10,11,12,8]"
      ]
    },
    {
      "cell_type": "code",
      "source": [
        "amax = 0\n",
        "amin = 12"
      ],
      "metadata": {
        "id": "AblDSyVXUR52"
      },
      "execution_count": 9,
      "outputs": []
    },
    {
      "cell_type": "code",
      "source": [
        "for i in range(10):\n",
        "  if a[i] < amin:\n",
        "    amin = a[i]\n",
        "    print(\"temp_min = \", amin)\n",
        "  if a[i] > amax:\n",
        "    amax = a[i]\n",
        "    print(\"temp_max = \", amax)"
      ],
      "metadata": {
        "colab": {
          "base_uri": "https://localhost:8080/"
        },
        "id": "ESnQd2bPUXJu",
        "outputId": "f20fb26f-123a-4281-d5c7-583755d93222"
      },
      "execution_count": 10,
      "outputs": [
        {
          "output_type": "stream",
          "name": "stdout",
          "text": [
            "temp_min =  7\n",
            "temp_max =  7\n",
            "temp_min =  4\n",
            "temp_max =  8\n",
            "temp_max =  9\n",
            "temp_max =  10\n",
            "temp_max =  11\n",
            "temp_max =  12\n"
          ]
        }
      ]
    },
    {
      "cell_type": "code",
      "source": [
        "print(\"amin = \", amin)\n",
        "print(\"amax = \", amax)"
      ],
      "metadata": {
        "colab": {
          "base_uri": "https://localhost:8080/"
        },
        "id": "Z-s39VkYVh-I",
        "outputId": "83d2e4f9-df13-4d10-cad7-ff895d85d130"
      },
      "execution_count": 11,
      "outputs": [
        {
          "output_type": "stream",
          "name": "stdout",
          "text": [
            "amin =  4\n",
            "amax =  12\n"
          ]
        }
      ]
    },
    {
      "cell_type": "code",
      "source": [],
      "metadata": {
        "id": "-n-j3IPDVlwn"
      },
      "execution_count": null,
      "outputs": []
    }
  ]
}